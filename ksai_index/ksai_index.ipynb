{
 "cells": [
  {
   "cell_type": "markdown",
   "metadata": {},
   "source": [
    "# KSAI Model Performance Index\n",
    "By Kreecha Puphaiboon"
   ]
  },
  {
   "cell_type": "markdown",
   "metadata": {},
   "source": [
    "## Objectives:\n",
    "- To propose a method to evaluate AIML model against another model with variance of sample data into our consideration\n",
    "- To find a benchmark of performance where we can select any dates of datasets into"
   ]
  },
  {
   "cell_type": "markdown",
   "metadata": {},
   "source": [
    "# Proposed Model"
   ]
  },
  {
   "cell_type": "markdown",
   "metadata": {},
   "source": [
    "\n",
    "$\\Large\\lambda=\\frac{\\partial B / B}{\\partial N / N}=\\frac{N}{B} \\frac{\\partial B}{\\partial N}=\\frac{\\partial \\ln B}{\\partial \\ln N}$\n",
    "\n",
    "where\n",
    "\n",
    "- <B>B</B> is the expected performance return of the based benchmark or champion set\n",
    "\n",
    "- <B>N</B> is the performance of the new challenger set\n",
    "\n",
    "- <B>${\\partial}$</B> denote the expected performance change via partial differential equation (PDE) of problem set\n",
    "\n",
    "<B>Aims:</B>\n",
    "- The model aims to handle the fairness between 2 datasets accounting for variance between B and N in size of samples i.e. dataset total number and time period between the two sets of B and N.\n",
    "\n",
    "- The third terms employ Log Normal Distribution to accomodate unit scale differences between two datasets. "
   ]
  },
  {
   "cell_type": "markdown",
   "metadata": {},
   "source": [
    "# Step Calculation\n",
    "\n",
    "error in difference places where you forecast people to spend money but they spend much less, the expected performance $R$ for each elements in the set where $n$ is the number of element in the set\n",
    "\n",
    "$$\\bar{R}=\\frac{\\sum_{i=1}^{n} R_{i}}{n}$$\n",
    "\n",
    "## Expected Performance\n",
    "The expected performance return of each elements will be calculated by\n",
    "\n",
    "$$E\\left[r_i\\right]=\\mu_i$$\n",
    "\n",
    "where $\\mu_i$ is the mean of the historical data. Thus, the total expected performance for a set of places is given by\n",
    "\n",
    "$$\\sum_{i=1}^n w_i\\mu_i=\\mathbf{w}^T\\mathbf{\\mu}.$$\n",
    "\n",
    "where $\\mathbf{\\mu}=\\left[\\mu_1,\\ldots,\\mu_2\\right]^T$ is the vector of the expected errors and $\\mathbf{w}=\\left[w_1,\\ldots,w_2\\right]^T$ is the vector of the weights of each elements in the set we want to observe. The vector of weights, w, which necessarily sums up\n",
    "to 1:\n",
    "\n",
    "\n",
    "## Variance\n",
    "\n",
    "The variance of the performance given by\n",
    "\n",
    "$$\\sigma_i^2=\\textrm{Var}\\left(r_i\\right)=E\\left[\\left(r_i-\\mu_i\\right)^2\\right]$$\n",
    "\n",
    "and the covariance between elements $i$ and $j$ is given by\n",
    "\n",
    "$$\\sigma_{ij}=\\textrm{Cov}\\left(r_i,r_j\\right)=E\\left[\\left(r_i-\\mu_i\\right)\\left(r_j-\\mu_j\\right)\\right].$$\n",
    "\n",
    "Using matrix notation, the covariances can be put into a covariance matrix, $K$, such that\n",
    "\n",
    "$$K=\\left[\\sigma_{ij}\\right].$$\n",
    "\n",
    "The total variance of the elements in the set is going to be\n",
    "\n",
    "$$\\sigma_P^2=E\\left[\\left(r_P-\\mu_P\\right)^2\\right]=\\sum_{i=1}^n\\left(\\sigma_iw_i\\right)^2+2\\sum_{i=1}^{n-1}\\sum_{j=i+1}^nw_iw_j\\sigma_{ij}=\\mathbf{w}^TK\\mathbf{w}$$\n",
    "\n"
   ]
  },
  {
   "cell_type": "markdown",
   "metadata": {
    "ExecuteTime": {
     "end_time": "2021-01-14T22:28:37.034035Z",
     "start_time": "2021-01-14T22:28:37.030419Z"
    }
   },
   "source": [
    "## A measurement by combining the above as the variance-adjusted performance of problem set"
   ]
  },
  {
   "cell_type": "markdown",
   "metadata": {
    "ExecuteTime": {
     "end_time": "2021-01-14T08:20:43.639817Z",
     "start_time": "2021-01-14T08:20:21.622914Z"
    }
   },
   "source": [
    "$$\\text { X }=\\frac{E(R)-R_{f}}{\\sigma_{p}}$$"
   ]
  },
  {
   "cell_type": "markdown",
   "metadata": {},
   "source": [
    "Now we have the expected performance and variance based ratio of the set either Base or Challenger"
   ]
  },
  {
   "cell_type": "markdown",
   "metadata": {},
   "source": [
    "If we want to push futher and see the curve based on critiria such as group or segment of elements then we have to optimise\n",
    "\n",
    "## Variance and Performance Return Problem\n",
    "\n",
    "If we want an expected performance $r_0$, then the problem becomes,\n",
    "\n",
    "$$\n",
    "\\textrm{minimize } \\mathbf{w}^TK\\mathbf{w}\n",
    "$$\n",
    "such that\n",
    "$$\n",
    "\\mathbf{w}^T\\mathbf{\\mu}=r_0\\\\\n",
    "w_i\\ge0,\\forall i\\\\\n",
    "\\mathbf{w}^T\\mathbf{e}=1\n",
    "$$\n",
    "\n",
    "where $\\mathbf{e}=\\left[1,1,\\ldots,\\right]^T$ is a vector of all ones. The solution becomes\n",
    "\n",
    "$$\\mathbf{w}=K^{-1}\\left[\\begin{array}{cc}\\mathbf{\\mu}&\\mathbf{e}\\end{array}\\right]A^{-1}\\left[\\begin{array}{c} r_0\\\\1\\end{array}\\right]$$\n",
    "\n",
    "where $A$ is given by\n",
    "\n",
    "$$A=\\left[\\begin{array}{cc}\\mathbf{\\mu}^TK^{-1}\\mathbf{\\mu}&\\mathbf{\\mu}^TK^{-1}\\mathbf{e}\\\\\n",
    "\\mathbf{\\mu}^TK^{-1}\\mathbf{e}&\\mathbf{e}^TK^{-1}\\mathbf{e}\\end{array}\\right].$$"
   ]
  },
  {
   "cell_type": "code",
   "execution_count": 24,
   "metadata": {
    "ExecuteTime": {
     "end_time": "2021-02-09T07:11:00.130403Z",
     "start_time": "2021-02-09T07:11:00.095467Z"
    }
   },
   "outputs": [],
   "source": [
    "import pandas as pd\n",
    "import numpy as np\n",
    "from datetime import datetime\n",
    "import scipy as sp\n",
    "import scipy.stats as spstats\n",
    "import matplotlib.mlab as mlab\n",
    "import matplotlib.pyplot as plt\n",
    "\n",
    "# make plots inline\n",
    "%matplotlib inline\n",
    "\n",
    "pd.set_option('display.notebook_repr_html', False)\n",
    "pd.set_option('display.max_columns', 7)\n",
    "\n",
    "pd.set_option('precision', 2)\n",
    "pd.options.display.float_format = '{:,.2f}'.format\n",
    "\n",
    "pd.set_option('display.max_rows', 500)\n",
    "pd.set_option('display.max_columns', 500)\n",
    "pd.set_option('display.width', 1000)"
   ]
  },
  {
   "cell_type": "code",
   "execution_count": 25,
   "metadata": {
    "ExecuteTime": {
     "end_time": "2021-02-09T07:11:00.161415Z",
     "start_time": "2021-02-09T07:11:00.135389Z"
    }
   },
   "outputs": [],
   "source": [
    "def create_set(elements, weights=None):\n",
    "    if weights is None: \n",
    "        shares = np.ones(len(elements))/len(elements)\n",
    "    set_ = pd.DataFrame({'ELEMENT_ID': elements, \n",
    "                              'Weights': weights}, \n",
    "                             index=elements)\n",
    "    return set_\n",
    "\n",
    "def calculate_weighted_set_value(the_set, returns, name='Value'):\n",
    "    total_weights = the_set.Weights.sum()\n",
    "    weighted_returns = returns * (the_set.Weights / total_weights)\n",
    "    return pd.DataFrame({name: weighted_returns.sum(axis=1)})\n",
    "\n",
    "def calc_set_var(returns, weights=None):\n",
    "    if weights is None: \n",
    "        weights = np.ones(returns.columns.size) / returns.columns.size\n",
    "    sigma = np.cov(returns.T, ddof=0)\n",
    "    var = (weights * sigma * weights.T).sum()\n",
    "    return var\n",
    "\n",
    "def the_ratio(returns, weights = None, risk_rate = 0.015):\n",
    "    \"\"\" variance-adjusted performance \"\"\"\n",
    "    n = returns.columns.size\n",
    "    if weights is None: weights = np.ones(n)/n\n",
    "    # get the set variance\n",
    "    var = calc_set_var(returns, weights)\n",
    "    means = returns.mean()\n",
    "    return (means.dot(weights) - risk_rate)/np.sqrt(var)\n",
    "\n",
    "def plot_set_returns(returns, title=None):\n",
    "    returns.plot(figsize=(12,8))\n",
    "    plt.xlabel('Count Error')\n",
    "    plt.ylabel('Returns')\n",
    "    if title is not None: plt.title(title)\n",
    "    plt.show()\n",
    "    \n"
   ]
  },
  {
   "cell_type": "markdown",
   "metadata": {},
   "source": [
    "# Example of Champion vs KSAI Sets"
   ]
  },
  {
   "cell_type": "code",
   "execution_count": 26,
   "metadata": {
    "ExecuteTime": {
     "end_time": "2021-02-09T07:11:00.192638Z",
     "start_time": "2021-02-09T07:11:00.167914Z"
    }
   },
   "outputs": [
    {
     "data": {
      "text/plain": [
       "     ELEMENT_ID  Weights\n",
       "2235       2235        1\n",
       "3041       3041        1\n",
       "3094       3094        1\n",
       "3233       3233        1"
      ]
     },
     "execution_count": 26,
     "metadata": {},
     "output_type": "execute_result"
    }
   ],
   "source": [
    "# elements and weights\n",
    "champion_set = create_set(['2235', '3041', '3094', '3233'], [1, 1, 1, 1])\n",
    "champion_set"
   ]
  },
  {
   "cell_type": "code",
   "execution_count": 27,
   "metadata": {
    "ExecuteTime": {
     "end_time": "2021-02-09T07:11:00.208637Z",
     "start_time": "2021-02-09T07:11:00.195275Z"
    }
   },
   "outputs": [
    {
     "data": {
      "text/plain": [
       "     ELEMENT_ID  Weights\n",
       "4047       4047        1\n",
       "4250       4250        1\n",
       "5479       5479        1"
      ]
     },
     "execution_count": 27,
     "metadata": {},
     "output_type": "execute_result"
    }
   ],
   "source": [
    "ksai_set = create_set(['4047', '4250', '5479'], [1, 1, 1])\n",
    "ksai_set"
   ]
  },
  {
   "cell_type": "markdown",
   "metadata": {},
   "source": [
    "<B>Champion error sample</B>"
   ]
  },
  {
   "cell_type": "code",
   "execution_count": 28,
   "metadata": {
    "ExecuteTime": {
     "end_time": "2021-02-09T07:11:00.224567Z",
     "start_time": "2021-02-09T07:11:00.210602Z"
    }
   },
   "outputs": [
    {
     "data": {
      "text/html": [
       "<style  type=\"text/css\" >\n",
       "</style><table id=\"T_3599409a_6b7e_11eb_9647_80c5f2c27d48\" ><thead>    <tr>        <th class=\"blank level0\" ></th>        <th class=\"col_heading level0 col0\" >2235</th>        <th class=\"col_heading level0 col1\" >3041</th>        <th class=\"col_heading level0 col2\" >3094</th>        <th class=\"col_heading level0 col3\" >3233</th>    </tr></thead><tbody>\n",
       "                <tr>\n",
       "                        <th id=\"T_3599409a_6b7e_11eb_9647_80c5f2c27d48level0_row0\" class=\"row_heading level0 row0\" >0</th>\n",
       "                        <td id=\"T_3599409a_6b7e_11eb_9647_80c5f2c27d48row0_col0\" class=\"data row0 col0\" >1,679,900</td>\n",
       "                        <td id=\"T_3599409a_6b7e_11eb_9647_80c5f2c27d48row0_col1\" class=\"data row0 col1\" >5,245,000</td>\n",
       "                        <td id=\"T_3599409a_6b7e_11eb_9647_80c5f2c27d48row0_col2\" class=\"data row0 col2\" >5,134,900</td>\n",
       "                        <td id=\"T_3599409a_6b7e_11eb_9647_80c5f2c27d48row0_col3\" class=\"data row0 col3\" >4,186,600</td>\n",
       "            </tr>\n",
       "            <tr>\n",
       "                        <th id=\"T_3599409a_6b7e_11eb_9647_80c5f2c27d48level0_row1\" class=\"row_heading level0 row1\" >1</th>\n",
       "                        <td id=\"T_3599409a_6b7e_11eb_9647_80c5f2c27d48row1_col0\" class=\"data row1 col0\" >2,961,600</td>\n",
       "                        <td id=\"T_3599409a_6b7e_11eb_9647_80c5f2c27d48row1_col1\" class=\"data row1 col1\" >4,416,500</td>\n",
       "                        <td id=\"T_3599409a_6b7e_11eb_9647_80c5f2c27d48row1_col2\" class=\"data row1 col2\" >4,624,300</td>\n",
       "                        <td id=\"T_3599409a_6b7e_11eb_9647_80c5f2c27d48row1_col3\" class=\"data row1 col3\" >3,643,500</td>\n",
       "            </tr>\n",
       "            <tr>\n",
       "                        <th id=\"T_3599409a_6b7e_11eb_9647_80c5f2c27d48level0_row2\" class=\"row_heading level0 row2\" >2</th>\n",
       "                        <td id=\"T_3599409a_6b7e_11eb_9647_80c5f2c27d48row2_col0\" class=\"data row2 col0\" >3,200,000</td>\n",
       "                        <td id=\"T_3599409a_6b7e_11eb_9647_80c5f2c27d48row2_col1\" class=\"data row2 col1\" >6,012,400</td>\n",
       "                        <td id=\"T_3599409a_6b7e_11eb_9647_80c5f2c27d48row2_col2\" class=\"data row2 col2\" >3,476,300</td>\n",
       "                        <td id=\"T_3599409a_6b7e_11eb_9647_80c5f2c27d48row2_col3\" class=\"data row2 col3\" >2,557,900</td>\n",
       "            </tr>\n",
       "            <tr>\n",
       "                        <th id=\"T_3599409a_6b7e_11eb_9647_80c5f2c27d48level0_row3\" class=\"row_heading level0 row3\" >3</th>\n",
       "                        <td id=\"T_3599409a_6b7e_11eb_9647_80c5f2c27d48row3_col0\" class=\"data row3 col0\" >2,554,900</td>\n",
       "                        <td id=\"T_3599409a_6b7e_11eb_9647_80c5f2c27d48row3_col1\" class=\"data row3 col1\" >0</td>\n",
       "                        <td id=\"T_3599409a_6b7e_11eb_9647_80c5f2c27d48row3_col2\" class=\"data row3 col2\" >5,759,400</td>\n",
       "                        <td id=\"T_3599409a_6b7e_11eb_9647_80c5f2c27d48row3_col3\" class=\"data row3 col3\" >3,348,400</td>\n",
       "            </tr>\n",
       "            <tr>\n",
       "                        <th id=\"T_3599409a_6b7e_11eb_9647_80c5f2c27d48level0_row4\" class=\"row_heading level0 row4\" >4</th>\n",
       "                        <td id=\"T_3599409a_6b7e_11eb_9647_80c5f2c27d48row4_col0\" class=\"data row4 col0\" >4,581,100</td>\n",
       "                        <td id=\"T_3599409a_6b7e_11eb_9647_80c5f2c27d48row4_col1\" class=\"data row4 col1\" >6,082,800</td>\n",
       "                        <td id=\"T_3599409a_6b7e_11eb_9647_80c5f2c27d48row4_col2\" class=\"data row4 col2\" >4,681,800</td>\n",
       "                        <td id=\"T_3599409a_6b7e_11eb_9647_80c5f2c27d48row4_col3\" class=\"data row4 col3\" >4,820,100</td>\n",
       "            </tr>\n",
       "    </tbody></table>"
      ],
      "text/plain": [
       "<pandas.io.formats.style.Styler at 0x252db4b1708>"
      ]
     },
     "execution_count": 28,
     "metadata": {},
     "output_type": "execute_result"
    }
   ],
   "source": [
    "champion_perform = pd.DataFrame(\n",
    "        {'2235': [1679900, 2961600, 3200000, 2554900, 4581100],\n",
    "         '3041': [5245000, 4416500, 6012400, 0, 6082800],\n",
    "         '3094': [5134900, 4624300, 3476300, 5759400, 4681800],\n",
    "         '3233': [4186600, 3643500, 2557900, 3348400, 4820100]\n",
    "        })\n",
    "champion_perform\n",
    "\n",
    "# 6082800\n",
    "champion_perform.head().style.format(\"{:,.0f}\")"
   ]
  },
  {
   "cell_type": "code",
   "execution_count": 29,
   "metadata": {
    "ExecuteTime": {
     "end_time": "2021-02-09T07:11:00.239856Z",
     "start_time": "2021-02-09T07:11:00.225564Z"
    }
   },
   "outputs": [
    {
     "data": {
      "text/html": [
       "<style  type=\"text/css\" >\n",
       "</style><table id=\"T_359b398a_6b7e_11eb_bcc1_80c5f2c27d48\" ><thead>    <tr>        <th class=\"blank level0\" ></th>        <th class=\"col_heading level0 col0\" >4047</th>        <th class=\"col_heading level0 col1\" >4250</th>        <th class=\"col_heading level0 col2\" >5479</th>    </tr></thead><tbody>\n",
       "                <tr>\n",
       "                        <th id=\"T_359b398a_6b7e_11eb_bcc1_80c5f2c27d48level0_row0\" class=\"row_heading level0 row0\" >0</th>\n",
       "                        <td id=\"T_359b398a_6b7e_11eb_bcc1_80c5f2c27d48row0_col0\" class=\"data row0 col0\" >3,058,900</td>\n",
       "                        <td id=\"T_359b398a_6b7e_11eb_bcc1_80c5f2c27d48row0_col1\" class=\"data row0 col1\" >5,053,700</td>\n",
       "                        <td id=\"T_359b398a_6b7e_11eb_bcc1_80c5f2c27d48row0_col2\" class=\"data row0 col2\" >2,776,200</td>\n",
       "            </tr>\n",
       "            <tr>\n",
       "                        <th id=\"T_359b398a_6b7e_11eb_bcc1_80c5f2c27d48level0_row1\" class=\"row_heading level0 row1\" >1</th>\n",
       "                        <td id=\"T_359b398a_6b7e_11eb_bcc1_80c5f2c27d48row1_col0\" class=\"data row1 col0\" >4,130,000</td>\n",
       "                        <td id=\"T_359b398a_6b7e_11eb_bcc1_80c5f2c27d48row1_col1\" class=\"data row1 col1\" >3,498,900</td>\n",
       "                        <td id=\"T_359b398a_6b7e_11eb_bcc1_80c5f2c27d48row1_col2\" class=\"data row1 col2\" >4,066,600</td>\n",
       "            </tr>\n",
       "            <tr>\n",
       "                        <th id=\"T_359b398a_6b7e_11eb_bcc1_80c5f2c27d48level0_row2\" class=\"row_heading level0 row2\" >2</th>\n",
       "                        <td id=\"T_359b398a_6b7e_11eb_bcc1_80c5f2c27d48row2_col0\" class=\"data row2 col0\" >3,606,400</td>\n",
       "                        <td id=\"T_359b398a_6b7e_11eb_bcc1_80c5f2c27d48row2_col1\" class=\"data row2 col1\" >3,691,100</td>\n",
       "                        <td id=\"T_359b398a_6b7e_11eb_bcc1_80c5f2c27d48row2_col2\" class=\"data row2 col2\" >4,524,300</td>\n",
       "            </tr>\n",
       "            <tr>\n",
       "                        <th id=\"T_359b398a_6b7e_11eb_bcc1_80c5f2c27d48level0_row3\" class=\"row_heading level0 row3\" >3</th>\n",
       "                        <td id=\"T_359b398a_6b7e_11eb_bcc1_80c5f2c27d48row3_col0\" class=\"data row3 col0\" >2,732,800</td>\n",
       "                        <td id=\"T_359b398a_6b7e_11eb_bcc1_80c5f2c27d48row3_col1\" class=\"data row3 col1\" >4,695,800</td>\n",
       "                        <td id=\"T_359b398a_6b7e_11eb_bcc1_80c5f2c27d48row3_col2\" class=\"data row3 col2\" >4,112,100</td>\n",
       "            </tr>\n",
       "            <tr>\n",
       "                        <th id=\"T_359b398a_6b7e_11eb_bcc1_80c5f2c27d48level0_row4\" class=\"row_heading level0 row4\" >4</th>\n",
       "                        <td id=\"T_359b398a_6b7e_11eb_bcc1_80c5f2c27d48row4_col0\" class=\"data row4 col0\" >4,980,000</td>\n",
       "                        <td id=\"T_359b398a_6b7e_11eb_bcc1_80c5f2c27d48row4_col1\" class=\"data row4 col1\" >5,080,000</td>\n",
       "                        <td id=\"T_359b398a_6b7e_11eb_bcc1_80c5f2c27d48row4_col2\" class=\"data row4 col2\" >5,070,000</td>\n",
       "            </tr>\n",
       "    </tbody></table>"
      ],
      "text/plain": [
       "<pandas.io.formats.style.Styler at 0x252db4c7fc8>"
      ]
     },
     "execution_count": 29,
     "metadata": {},
     "output_type": "execute_result"
    }
   ],
   "source": [
    "\"\"\" KSAI Sample \"\"\"\n",
    "ksai_perform = pd.DataFrame(\n",
    "        {'4047': [3058900, 4130000, 3606400, 2732800, 4980000],\n",
    "         '4250': [5053700, 3498900, 3691100, 4695800, 5080000],\n",
    "         '5479': [2776200, 4066600, 4524300, 4112100, 5070000],\n",
    "        })\n",
    "ksai_perform.head().style.format(\"{:,.0f}\")"
   ]
  },
  {
   "cell_type": "code",
   "execution_count": 30,
   "metadata": {
    "ExecuteTime": {
     "end_time": "2021-02-09T07:11:00.254605Z",
     "start_time": "2021-02-09T07:11:00.240849Z"
    }
   },
   "outputs": [
    {
     "data": {
      "text/html": [
       "<style  type=\"text/css\" >\n",
       "</style><table id=\"T_359df812_6b7e_11eb_9459_80c5f2c27d48\" ><thead>    <tr>        <th class=\"blank level0\" ></th>        <th class=\"col_heading level0 col0\" >2235</th>        <th class=\"col_heading level0 col1\" >3041</th>        <th class=\"col_heading level0 col2\" >3094</th>        <th class=\"col_heading level0 col3\" >3233</th>        <th class=\"col_heading level0 col4\" >Value</th>    </tr></thead><tbody>\n",
       "                <tr>\n",
       "                        <th id=\"T_359df812_6b7e_11eb_9459_80c5f2c27d48level0_row0\" class=\"row_heading level0 row0\" >0</th>\n",
       "                        <td id=\"T_359df812_6b7e_11eb_9459_80c5f2c27d48row0_col0\" class=\"data row0 col0\" >1,679,900</td>\n",
       "                        <td id=\"T_359df812_6b7e_11eb_9459_80c5f2c27d48row0_col1\" class=\"data row0 col1\" >5,245,000</td>\n",
       "                        <td id=\"T_359df812_6b7e_11eb_9459_80c5f2c27d48row0_col2\" class=\"data row0 col2\" >5,134,900</td>\n",
       "                        <td id=\"T_359df812_6b7e_11eb_9459_80c5f2c27d48row0_col3\" class=\"data row0 col3\" >4,186,600</td>\n",
       "                        <td id=\"T_359df812_6b7e_11eb_9459_80c5f2c27d48row0_col4\" class=\"data row0 col4\" >4,061,600</td>\n",
       "            </tr>\n",
       "            <tr>\n",
       "                        <th id=\"T_359df812_6b7e_11eb_9459_80c5f2c27d48level0_row1\" class=\"row_heading level0 row1\" >1</th>\n",
       "                        <td id=\"T_359df812_6b7e_11eb_9459_80c5f2c27d48row1_col0\" class=\"data row1 col0\" >2,961,600</td>\n",
       "                        <td id=\"T_359df812_6b7e_11eb_9459_80c5f2c27d48row1_col1\" class=\"data row1 col1\" >4,416,500</td>\n",
       "                        <td id=\"T_359df812_6b7e_11eb_9459_80c5f2c27d48row1_col2\" class=\"data row1 col2\" >4,624,300</td>\n",
       "                        <td id=\"T_359df812_6b7e_11eb_9459_80c5f2c27d48row1_col3\" class=\"data row1 col3\" >3,643,500</td>\n",
       "                        <td id=\"T_359df812_6b7e_11eb_9459_80c5f2c27d48row1_col4\" class=\"data row1 col4\" >3,911,475</td>\n",
       "            </tr>\n",
       "            <tr>\n",
       "                        <th id=\"T_359df812_6b7e_11eb_9459_80c5f2c27d48level0_row2\" class=\"row_heading level0 row2\" >2</th>\n",
       "                        <td id=\"T_359df812_6b7e_11eb_9459_80c5f2c27d48row2_col0\" class=\"data row2 col0\" >3,200,000</td>\n",
       "                        <td id=\"T_359df812_6b7e_11eb_9459_80c5f2c27d48row2_col1\" class=\"data row2 col1\" >6,012,400</td>\n",
       "                        <td id=\"T_359df812_6b7e_11eb_9459_80c5f2c27d48row2_col2\" class=\"data row2 col2\" >3,476,300</td>\n",
       "                        <td id=\"T_359df812_6b7e_11eb_9459_80c5f2c27d48row2_col3\" class=\"data row2 col3\" >2,557,900</td>\n",
       "                        <td id=\"T_359df812_6b7e_11eb_9459_80c5f2c27d48row2_col4\" class=\"data row2 col4\" >3,811,650</td>\n",
       "            </tr>\n",
       "            <tr>\n",
       "                        <th id=\"T_359df812_6b7e_11eb_9459_80c5f2c27d48level0_row3\" class=\"row_heading level0 row3\" >3</th>\n",
       "                        <td id=\"T_359df812_6b7e_11eb_9459_80c5f2c27d48row3_col0\" class=\"data row3 col0\" >2,554,900</td>\n",
       "                        <td id=\"T_359df812_6b7e_11eb_9459_80c5f2c27d48row3_col1\" class=\"data row3 col1\" >0</td>\n",
       "                        <td id=\"T_359df812_6b7e_11eb_9459_80c5f2c27d48row3_col2\" class=\"data row3 col2\" >5,759,400</td>\n",
       "                        <td id=\"T_359df812_6b7e_11eb_9459_80c5f2c27d48row3_col3\" class=\"data row3 col3\" >3,348,400</td>\n",
       "                        <td id=\"T_359df812_6b7e_11eb_9459_80c5f2c27d48row3_col4\" class=\"data row3 col4\" >2,915,675</td>\n",
       "            </tr>\n",
       "            <tr>\n",
       "                        <th id=\"T_359df812_6b7e_11eb_9459_80c5f2c27d48level0_row4\" class=\"row_heading level0 row4\" >4</th>\n",
       "                        <td id=\"T_359df812_6b7e_11eb_9459_80c5f2c27d48row4_col0\" class=\"data row4 col0\" >4,581,100</td>\n",
       "                        <td id=\"T_359df812_6b7e_11eb_9459_80c5f2c27d48row4_col1\" class=\"data row4 col1\" >6,082,800</td>\n",
       "                        <td id=\"T_359df812_6b7e_11eb_9459_80c5f2c27d48row4_col2\" class=\"data row4 col2\" >4,681,800</td>\n",
       "                        <td id=\"T_359df812_6b7e_11eb_9459_80c5f2c27d48row4_col3\" class=\"data row4 col3\" >4,820,100</td>\n",
       "                        <td id=\"T_359df812_6b7e_11eb_9459_80c5f2c27d48row4_col4\" class=\"data row4 col4\" >5,041,450</td>\n",
       "            </tr>\n",
       "    </tbody></table>"
      ],
      "text/plain": [
       "<pandas.io.formats.style.Styler at 0x252db4a4d48>"
      ]
     },
     "execution_count": 30,
     "metadata": {},
     "output_type": "execute_result"
    }
   ],
   "source": [
    "\"\"\" Champion \"\"\"\n",
    "champion_wr = calculate_weighted_set_value(champion_set, champion_perform, \"Value\")\n",
    "champion_with_value = pd.concat([champion_perform, champion_wr], axis=1)\n",
    "champion_with_value.head().style.format(\"{:,.0f}\")"
   ]
  },
  {
   "cell_type": "code",
   "execution_count": 31,
   "metadata": {
    "ExecuteTime": {
     "end_time": "2021-02-09T07:11:00.270537Z",
     "start_time": "2021-02-09T07:11:00.257569Z"
    }
   },
   "outputs": [
    {
     "data": {
      "text/html": [
       "<style  type=\"text/css\" >\n",
       "</style><table id=\"T_35a08e88_6b7e_11eb_8736_80c5f2c27d48\" ><thead>    <tr>        <th class=\"blank level0\" ></th>        <th class=\"col_heading level0 col0\" >4047</th>        <th class=\"col_heading level0 col1\" >4250</th>        <th class=\"col_heading level0 col2\" >5479</th>        <th class=\"col_heading level0 col3\" >Value</th>    </tr></thead><tbody>\n",
       "                <tr>\n",
       "                        <th id=\"T_35a08e88_6b7e_11eb_8736_80c5f2c27d48level0_row0\" class=\"row_heading level0 row0\" >0</th>\n",
       "                        <td id=\"T_35a08e88_6b7e_11eb_8736_80c5f2c27d48row0_col0\" class=\"data row0 col0\" >3,058,900</td>\n",
       "                        <td id=\"T_35a08e88_6b7e_11eb_8736_80c5f2c27d48row0_col1\" class=\"data row0 col1\" >5,053,700</td>\n",
       "                        <td id=\"T_35a08e88_6b7e_11eb_8736_80c5f2c27d48row0_col2\" class=\"data row0 col2\" >2,776,200</td>\n",
       "                        <td id=\"T_35a08e88_6b7e_11eb_8736_80c5f2c27d48row0_col3\" class=\"data row0 col3\" >3,629,600</td>\n",
       "            </tr>\n",
       "            <tr>\n",
       "                        <th id=\"T_35a08e88_6b7e_11eb_8736_80c5f2c27d48level0_row1\" class=\"row_heading level0 row1\" >1</th>\n",
       "                        <td id=\"T_35a08e88_6b7e_11eb_8736_80c5f2c27d48row1_col0\" class=\"data row1 col0\" >4,130,000</td>\n",
       "                        <td id=\"T_35a08e88_6b7e_11eb_8736_80c5f2c27d48row1_col1\" class=\"data row1 col1\" >3,498,900</td>\n",
       "                        <td id=\"T_35a08e88_6b7e_11eb_8736_80c5f2c27d48row1_col2\" class=\"data row1 col2\" >4,066,600</td>\n",
       "                        <td id=\"T_35a08e88_6b7e_11eb_8736_80c5f2c27d48row1_col3\" class=\"data row1 col3\" >3,898,500</td>\n",
       "            </tr>\n",
       "            <tr>\n",
       "                        <th id=\"T_35a08e88_6b7e_11eb_8736_80c5f2c27d48level0_row2\" class=\"row_heading level0 row2\" >2</th>\n",
       "                        <td id=\"T_35a08e88_6b7e_11eb_8736_80c5f2c27d48row2_col0\" class=\"data row2 col0\" >3,606,400</td>\n",
       "                        <td id=\"T_35a08e88_6b7e_11eb_8736_80c5f2c27d48row2_col1\" class=\"data row2 col1\" >3,691,100</td>\n",
       "                        <td id=\"T_35a08e88_6b7e_11eb_8736_80c5f2c27d48row2_col2\" class=\"data row2 col2\" >4,524,300</td>\n",
       "                        <td id=\"T_35a08e88_6b7e_11eb_8736_80c5f2c27d48row2_col3\" class=\"data row2 col3\" >3,940,600</td>\n",
       "            </tr>\n",
       "            <tr>\n",
       "                        <th id=\"T_35a08e88_6b7e_11eb_8736_80c5f2c27d48level0_row3\" class=\"row_heading level0 row3\" >3</th>\n",
       "                        <td id=\"T_35a08e88_6b7e_11eb_8736_80c5f2c27d48row3_col0\" class=\"data row3 col0\" >2,732,800</td>\n",
       "                        <td id=\"T_35a08e88_6b7e_11eb_8736_80c5f2c27d48row3_col1\" class=\"data row3 col1\" >4,695,800</td>\n",
       "                        <td id=\"T_35a08e88_6b7e_11eb_8736_80c5f2c27d48row3_col2\" class=\"data row3 col2\" >4,112,100</td>\n",
       "                        <td id=\"T_35a08e88_6b7e_11eb_8736_80c5f2c27d48row3_col3\" class=\"data row3 col3\" >3,846,900</td>\n",
       "            </tr>\n",
       "            <tr>\n",
       "                        <th id=\"T_35a08e88_6b7e_11eb_8736_80c5f2c27d48level0_row4\" class=\"row_heading level0 row4\" >4</th>\n",
       "                        <td id=\"T_35a08e88_6b7e_11eb_8736_80c5f2c27d48row4_col0\" class=\"data row4 col0\" >4,980,000</td>\n",
       "                        <td id=\"T_35a08e88_6b7e_11eb_8736_80c5f2c27d48row4_col1\" class=\"data row4 col1\" >5,080,000</td>\n",
       "                        <td id=\"T_35a08e88_6b7e_11eb_8736_80c5f2c27d48row4_col2\" class=\"data row4 col2\" >5,070,000</td>\n",
       "                        <td id=\"T_35a08e88_6b7e_11eb_8736_80c5f2c27d48row4_col3\" class=\"data row4 col3\" >5,043,333</td>\n",
       "            </tr>\n",
       "    </tbody></table>"
      ],
      "text/plain": [
       "<pandas.io.formats.style.Styler at 0x252d9842d08>"
      ]
     },
     "execution_count": 31,
     "metadata": {},
     "output_type": "execute_result"
    }
   ],
   "source": [
    "\"\"\" KSAI \"\"\"\n",
    "ksai_wr = calculate_weighted_set_value(ksai_set, ksai_perform, \"Value\")\n",
    "ksai_with_value = pd.concat([ksai_perform, ksai_wr], axis=1)\n",
    "ksai_with_value.head().style.format(\"{:,.0f}\")"
   ]
  },
  {
   "cell_type": "code",
   "execution_count": 32,
   "metadata": {
    "ExecuteTime": {
     "end_time": "2021-02-09T07:11:00.286494Z",
     "start_time": "2021-02-09T07:11:00.275524Z"
    }
   },
   "outputs": [
    {
     "data": {
      "text/plain": [
       "2235    1,058,540.10\n",
       "3041    2,524,584.51\n",
       "3094      837,962.59\n",
       "3233      854,688.88\n",
       "Value     757,323.82\n",
       "dtype: float64"
      ]
     },
     "execution_count": 32,
     "metadata": {},
     "output_type": "execute_result"
    }
   ],
   "source": [
    "champion_with_value.std()"
   ]
  },
  {
   "cell_type": "code",
   "execution_count": 33,
   "metadata": {
    "ExecuteTime": {
     "end_time": "2021-02-09T07:11:00.302752Z",
     "start_time": "2021-02-09T07:11:00.290482Z"
    }
   },
   "outputs": [
    {
     "data": {
      "text/plain": [
       "4047    891,422.02\n",
       "4250    756,912.43\n",
       "5479    847,666.62\n",
       "Value   556,157.40\n",
       "dtype: float64"
      ]
     },
     "execution_count": 33,
     "metadata": {},
     "output_type": "execute_result"
    }
   ],
   "source": [
    "ksai_with_value.std()"
   ]
  },
  {
   "cell_type": "code",
   "execution_count": null,
   "metadata": {
    "ExecuteTime": {
     "end_time": "2021-01-15T14:22:20.572528Z",
     "start_time": "2021-01-15T14:22:20.566777Z"
    }
   },
   "outputs": [],
   "source": []
  },
  {
   "cell_type": "code",
   "execution_count": 34,
   "metadata": {
    "ExecuteTime": {
     "end_time": "2021-02-09T07:11:00.551800Z",
     "start_time": "2021-02-09T07:11:00.306698Z"
    }
   },
   "outputs": [
    {
     "data": {
      "image/png": "[encoded data removed]",
      "text/plain": [
       "<Figure size 864x576 with 1 Axes>"
      ]
     },
     "metadata": {
      "needs_background": "light"
     },
     "output_type": "display_data"
    }
   ],
   "source": [
    "plot_set_returns(champion_with_value, title='Champion')"
   ]
  },
  {
   "cell_type": "code",
   "execution_count": 35,
   "metadata": {
    "ExecuteTime": {
     "end_time": "2021-02-09T07:11:00.768923Z",
     "start_time": "2021-02-09T07:11:00.553975Z"
    }
   },
   "outputs": [
    {
     "data": {
      "image/png": "[encoded data removed]",
      "text/plain": [
       "<Figure size 864x576 with 1 Axes>"
      ]
     },
     "metadata": {
      "needs_background": "light"
     },
     "output_type": "display_data"
    }
   ],
   "source": [
    "plot_set_returns(ksai_with_value, title='KSAI')"
   ]
  },
  {
   "cell_type": "code",
   "execution_count": 45,
   "metadata": {
    "ExecuteTime": {
     "end_time": "2021-02-09T07:11:00.799650Z",
     "start_time": "2021-02-09T07:11:00.770947Z"
    }
   },
   "outputs": [
    {
     "data": {
      "image/png": "[encoded data removed]",
      "text/plain": [
       "<Figure size 288x288 with 1 Axes>"
      ]
     },
     "metadata": {
      "needs_background": "light"
     },
     "output_type": "display_data"
    }
   ],
   "source": [
    "champion_perform.corr()\n",
    "plt.matshow(champion_perform.corr())\n",
    "plt.show()"
   ]
  },
  {
   "cell_type": "code",
   "execution_count": 37,
   "metadata": {
    "ExecuteTime": {
     "end_time": "2021-02-09T07:11:00.829602Z",
     "start_time": "2021-02-09T07:11:00.802759Z"
    }
   },
   "outputs": [
    {
     "data": {
      "text/plain": [
       "      4047  4250  5479\n",
       "4047  1.00 -0.06  0.67\n",
       "4250 -0.06  1.00 -0.18\n",
       "5479  0.67 -0.18  1.00"
      ]
     },
     "execution_count": 37,
     "metadata": {},
     "output_type": "execute_result"
    }
   ],
   "source": [
    "ksai_perform.corr()\n",
    "#plt.matshow(ksai_perform.corr())\n",
    "#plt.show()"
   ]
  },
  {
   "cell_type": "code",
   "execution_count": 38,
   "metadata": {
    "ExecuteTime": {
     "end_time": "2021-02-09T07:11:00.845383Z",
     "start_time": "2021-02-09T07:11:00.833599Z"
    }
   },
   "outputs": [
    {
     "name": "stdout",
     "output_type": "stream",
     "text": [
      "Champion variance = 458,831,496,350.00\n"
     ]
    }
   ],
   "source": [
    "print('Champion variance = {:,.2f}'.format(calc_set_var(champion_perform)))"
   ]
  },
  {
   "cell_type": "code",
   "execution_count": 39,
   "metadata": {
    "ExecuteTime": {
     "end_time": "2021-02-09T07:11:00.861338Z",
     "start_time": "2021-02-09T07:11:00.848374Z"
    }
   },
   "outputs": [
    {
     "name": "stdout",
     "output_type": "stream",
     "text": [
      "KSAI variance = 247,448,839,377.78\n"
     ]
    }
   ],
   "source": [
    "print('KSAI variance = {:,.2f}'.format(calc_set_var(ksai_perform)))"
   ]
  },
  {
   "cell_type": "markdown",
   "metadata": {},
   "source": [
    "<B>Champion and KSAI variance-adjusted performance comparison</B>"
   ]
  },
  {
   "cell_type": "code",
   "execution_count": 40,
   "metadata": {
    "ExecuteTime": {
     "end_time": "2021-02-09T07:11:00.876799Z",
     "start_time": "2021-02-09T07:11:00.865275Z"
    }
   },
   "outputs": [],
   "source": [
    "\"\"\" calculate variance-adjusted performance \"\"\"\n",
    "champ_ratio = the_ratio(champion_perform)"
   ]
  },
  {
   "cell_type": "code",
   "execution_count": 41,
   "metadata": {
    "ExecuteTime": {
     "end_time": "2021-02-09T07:11:00.891879Z",
     "start_time": "2021-02-09T07:11:00.880863Z"
    }
   },
   "outputs": [],
   "source": [
    "\"\"\" calculate variance-adjusted performance \"\"\"\n",
    "ksai_ratio = the_ratio(ksai_perform)"
   ]
  },
  {
   "cell_type": "code",
   "execution_count": 42,
   "metadata": {
    "ExecuteTime": {
     "end_time": "2021-02-09T07:11:00.907730Z",
     "start_time": "2021-02-09T07:11:00.894875Z"
    }
   },
   "outputs": [
    {
     "name": "stdout",
     "output_type": "stream",
     "text": [
      "The champion ratio is 5.83 vs KSAI ratio is 8.19\n"
     ]
    }
   ],
   "source": [
    "\"\"\" Less ratio is better \"\"\"\n",
    "print('The champion ratio is {:,.2f} vs KSAI ratio is {:,.2f}'.format(champ_ratio, ksai_ratio))"
   ]
  },
  {
   "cell_type": "markdown",
   "metadata": {},
   "source": [
    "# Revolving"
   ]
  },
  {
   "cell_type": "markdown",
   "metadata": {},
   "source": [
    "Let assume the baseline or the champion is accepted and time goes by, the new ratio or the add-on is the same model, therefore the devision can occur hence "
   ]
  },
  {
   "cell_type": "code",
   "execution_count": 43,
   "metadata": {
    "ExecuteTime": {
     "end_time": "2021-02-09T07:11:00.923684Z",
     "start_time": "2021-02-09T07:11:00.910809Z"
    }
   },
   "outputs": [
    {
     "name": "stdout",
     "output_type": "stream",
     "text": [
      "Bay_lambda = 0.71 \n"
     ]
    }
   ],
   "source": [
    "bay_lambda = champ_ratio/ksai_ratio\n",
    "print('Bay_lambda = {:,.2f} '.format(bay_lambda))"
   ]
  },
  {
   "cell_type": "code",
   "execution_count": null,
   "metadata": {},
   "outputs": [],
   "source": []
  }
 ],
 "metadata": {
  "kernelspec": {
   "display_name": "Python 3",
   "language": "python",
   "name": "python3"
  },
  "language_info": {
   "codemirror_mode": {
    "name": "ipython",
    "version": 3
   },
   "file_extension": ".py",
   "mimetype": "text/x-python",
   "name": "python",
   "nbconvert_exporter": "python",
   "pygments_lexer": "ipython3",
   "version": "3.7.4"
  },
  "toc": {
   "base_numbering": 1,
   "nav_menu": {},
   "number_sections": true,
   "sideBar": true,
   "skip_h1_title": false,
   "title_cell": "Table of Contents",
   "title_sidebar": "Contents",
   "toc_cell": false,
   "toc_position": {},
   "toc_section_display": true,
   "toc_window_display": false
  },
  "varInspector": {
   "cols": {
    "lenName": 16,
    "lenType": 16,
    "lenVar": 40
   },
   "kernels_config": {
    "python": {
     "delete_cmd_postfix": "",
     "delete_cmd_prefix": "del ",
     "library": "var_list.py",
     "varRefreshCmd": "print(var_dic_list())"
    },
    "r": {
     "delete_cmd_postfix": ") ",
     "delete_cmd_prefix": "rm(",
     "library": "var_list.r",
     "varRefreshCmd": "cat(var_dic_list()) "
    }
   },
   "types_to_exclude": [
    "module",
    "function",
    "builtin_function_or_method",
    "instance",
    "_Feature"
   ],
   "window_display": false
  }
 },
 "nbformat": 4,
 "nbformat_minor": 2
}
