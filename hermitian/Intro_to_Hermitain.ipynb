{
 "cells": [
  {
   "cell_type": "markdown",
   "id": "116b2a6b",
   "metadata": {},
   "source": [
    "# Introduction to Imaginery Number and Hermitian\n",
    "by Kreecha Puphaiboon\n",
    "20/9/2021\n",
    "\n",
    "Hi my name is Kreecha Puphaiboon I work for Krungsri Bank in Thailand (https://www.krungsri.com). I am writing this with main objectives:\n",
    " - To introduce: 1) Complex, 2) Hermitian, and 3) Unitary Matrices\n",
    " - To explain how they are used in optimization based on Hermitian matrices which have real eigenvalues whose eigenvectors form a unitary basis use in Clustering of 3 Dimensional Space and Digital Signal processing.\n",
    " \n",
    "At work, I am working on two projects: 1) clustering for marketing campaings whih require optimization for advertising based on time, click through rate and investment cost and 2) voice authentication. For some bizarre resaon i have the opportunity to use complex and hermitian matrices at the same time, what's a luck. So i started talking to many people but not many undestand, so i though may be i write about it and explain to everyone at once. It is also nicer to share to the public.\n",
    "\n",
    "Let's get started."
   ]
  },
  {
   "cell_type": "markdown",
   "id": "827246ae",
   "metadata": {},
   "source": [
    "### 1) Complex Matrix\n",
    "\n",
    "Recall that first <b>complex numbers</b> $z$ is a number that can be written as\n",
    "$$\n",
    "z=a+i b\n",
    "$$\n",
    "where $a$ and $b$ are real numbers, called the real and <b>imaginary part of the complex number</b>, and\n",
    "$$\n",
    "i=\\sqrt{-1}\n",
    "$$\n",
    "is called imaginary unit. Imaginary unit is not knowing can be either positive or negative caused by shifting or translate when you dont know the state. For example, when you are in the total darkness or in 3D space you dont know you will be moving to left or right and up or down. If we base where you stand on a line number as a starting point the middle based at 0 to the right it is positive and to the left is negative. But when you are in the total darkness you don't know the direction. So, imaginary numbers are abstract concepts that are used when you need the square root of a negative number.\n",
    "\n",
    "When we manipulate complex numbers, we often see\n",
    "$$\n",
    "i^{2}=-1\n",
    "$$"
   ]
  },
  {
   "cell_type": "markdown",
   "id": "f3ea16f9",
   "metadata": {},
   "source": [
    "People may wonder why we have to deal with -1, let me give you an example. My project dealing with voice, we have to deal with signal which comes in as a sine wave (see below Figure). Let's say I have a square root form and i want to capture the wave a at every 38 tick (i dont want to process each tick, so i can compute faster), then i randomly pick up a number (x=38) then you can see i pick up -1. This is an example when we are some time don't know what we are going to get but you need to square root. In signaling problem, we have to deal with both positive and negative numbers"
   ]
  },
  {
   "cell_type": "code",
   "execution_count": 8,
   "id": "bb6d32e3",
   "metadata": {
    "scrolled": true
   },
   "outputs": [
    {
     "data": {
      "image/png": "[encoded data removed]",
      "text/plain": [
       "<Figure size 432x288 with 1 Axes>"
      ]
     },
     "metadata": {
      "needs_background": "light"
     },
     "output_type": "display_data"
    }
   ],
   "source": [
    "import matplotlib.pyplot as plt\n",
    "import numpy as np \n",
    "\n",
    "sr = 100          # sample rate \n",
    "f = 2             # the frequency of the signal such as 2 seconds\n",
    "\n",
    "time = np.arange(sr) # the points on the x axis the sampling time interval\n",
    "\n",
    "# fake the value (amplitude) of the sin wave \n",
    "y = np.sin(2 * np.pi * f * (time/sr)) \n",
    "\n",
    "plt.title('Frequency in a time sample sampling_period = 100')\n",
    "plt.stem(time, y, 'r', )\n",
    "plt.xlabel('Time'), plt.ylabel('Amplitude')\n",
    "plt.plot(time,y)\n",
    "plt.savefig('Sampling.png')"
   ]
  },
  {
   "cell_type": "markdown",
   "id": "726f7a57",
   "metadata": {},
   "source": [
    "\n",
    "Back to Imaginary numbers, they allow us to find solutions to equations that have no real solutions. For example, the equation\n",
    "$$\n",
    "z^{2}=-1\n",
    "$$\n",
    "has no real solution, but it has two imaginary solutions\n",
    "$$\n",
    "z=\\pm i\n",
    "$$\n",
    "To think simply of the fact, a real number can be seen as a complex number with zero imaginary part.\n",
    "\n",
    "Complex numbers can also be represented in polar form, which has a magnitude term and an angular term.\n",
    "The magnitude of a complex number $z=x+i y$ is given as $|z|=\\sqrt{x^{2}+y^{2}}$, and its angular term is calculated as $\\theta=\\tan ^{-1}\\left(\\frac{y}{x}\\right)$."
   ]
  },
  {
   "cell_type": "markdown",
   "id": "5311835a",
   "metadata": {},
   "source": [
    "<b>Complex conjugate</b>\n",
    "An important concept is that of complex conjugate. Given a complex number\n",
    "$$\n",
    "z=a+i b\n",
    "$$\n",
    "its conjugate, denoted by $\\bar{z}$, is\n",
    "$$\n",
    "\\bar{z}=a-i b\n",
    "$$\n",
    "As a consequence, double conjugation leaves numbers unchanged:\n",
    "$$\n",
    "\\overline{\\bar{z}}=\\overline{\\overline{a+i b}}=\\overline{a-i b}=a+i b\n",
    "$$\n",
    "Note that the complex conjugate simply changing the sign of the imaginary part (the real part does not change)"
   ]
  },
  {
   "cell_type": "markdown",
   "id": "1fb92d2b",
   "metadata": {},
   "source": [
    "#### Complex matrices\n",
    "Complex matrices (and vectors) are matrices whose entries are complex numbers.\n",
    "Complex conjugation of matrices\n",
    "Given a $K \\times L$ matrix $A$, its complex conjugate $\\bar{A}$ is the matrix such that\n",
    "$$\n",
    "\\bar{A}_{k l}=\\overline{A_{k 1}}\n",
    "$$\n",
    "that is, the $(k, l)$-th entry of $\\bar{A}$ is equal to the complex conjugate of the $(k, l)$-th entry of $A$, for any $k \\leq K$ and $l \\leq L$.\n",
    "Example, let define the matrix\n",
    "$$\n",
    "A=\\left[\\begin{array}{cc}\n",
    "1+2 i & 0 \\\\\n",
    "3 & -i\n",
    "\\end{array}\\right]\n",
    "$$\n",
    "Then its complex conjugate is\n",
    "$$\n",
    "\\bar{A}=\\left[\\begin{array}{cc}\n",
    "1-2 i & 0 \\\\\n",
    "3 & i\n",
    "\\end{array}\\right]\n",
    "$$"
   ]
  },
  {
   "cell_type": "markdown",
   "id": "1c7d0ee2",
   "metadata": {},
   "source": [
    "Allow me to repeat if <b>original matrix</b> is $\\left[\\begin{array}{ccc}2+3 i & i & 6-4 i \\\\ 7 & 2-3 i & -i\\end{array}\\right]$\n",
    "\n",
    "\n",
    "<b>Complex conjugate</b> = $\\left[\\begin{array}{ccc}\n",
    "2-3 i & -i & 6+4 i \\\\\n",
    "7 & 2+3 i & i\n",
    "\\end{array}\\right]$\n",
    "\n",
    "<b>Conjugate transpose</b> or known as Hermitian Transpose $\\left[\\begin{array}{cc}2-3 i & 7 \\\\ -i & 2+3 i \\\\ 6+4 i & i\\end{array}\\right]$"
   ]
  },
  {
   "cell_type": "markdown",
   "id": "17ff4e91",
   "metadata": {},
   "source": [
    "### 2) Hermitian Matrix"
   ]
  },
  {
   "cell_type": "markdown",
   "id": "f11b2343",
   "metadata": {},
   "source": [
    "A square matrix is called Hermitian if it is self-adjoint. Hermitian matrices have real eigenvalues whose eigenvectors form a unitary basis. For real matrices, Hermitian is the same as symmetric. $$M^{H}=M$$"
   ]
  },
  {
   "cell_type": "code",
   "execution_count": 2,
   "id": "8d508cc9",
   "metadata": {},
   "outputs": [
    {
     "name": "stdout",
     "output_type": "stream",
     "text": [
      "[[0.6759652 +0.j         0.63281735-0.22817382j 0.90429464-0.51806976j\n",
      "  1.00414104+0.05646734j 1.44290807+0.17369154j 0.92513251-0.06675138j]\n",
      " [0.63281735+0.22817382j 1.22844874+0.j         0.38983951+0.27359496j\n",
      "  1.40960716-0.46766887j 0.93110954+0.72900566j 0.91610411-0.41279009j]\n",
      " [0.90429464+0.51806976j 0.38983951-0.27359496j 1.14767186+0.j\n",
      "  0.71887232+0.09035841j 1.10455874+0.40003849j 1.15032099+0.11244176j]\n",
      " [1.00414104-0.05646734j 1.40960716+0.46766887j 0.71887232-0.09035841j\n",
      "  0.90964009+0.j         1.07362948+0.7444593j  1.26517046-0.44471893j]\n",
      " [1.44290807-0.17369154j 0.93110954-0.72900566j 1.10455874-0.40003849j\n",
      "  1.07362948-0.7444593j  0.83433851+0.j         0.08835764+0.43218452j]\n",
      " [0.92513251+0.06675138j 0.91610411+0.41279009j 1.15032099-0.11244176j\n",
      "  1.26517046+0.44471893j 0.08835764-0.43218452j 1.65392557+0.j        ]]\n"
     ]
    }
   ],
   "source": [
    "import numpy as np\n",
    "\n",
    "# Make a random hermitian matrix, H\n",
    "R= np.random.rand(6, 6) + 1.j * np.random.rand(6, 6)\n",
    "H = R + R.T.conj()\n",
    "print(H)"
   ]
  },
  {
   "cell_type": "code",
   "execution_count": 3,
   "id": "fb79b46f",
   "metadata": {},
   "outputs": [
    {
     "name": "stdout",
     "output_type": "stream",
     "text": [
      "[[ 0.32662789+0.j         -0.50252019-0.j         -0.57921453+0.j\n",
      "   0.32805523+0.j          0.20810218+0.j         -0.39290134-0.j        ]\n",
      " [ 0.13560421+0.10092567j -0.0194925 +0.48792803j  0.07809809-0.44251837j\n",
      "  -0.27599284-0.3407621j  -0.36446165+0.20227818j -0.40095109-0.06518108j]\n",
      " [ 0.22285115+0.06625934j -0.05542716+0.28366809j  0.49510162+0.19882653j\n",
      "  -0.06820819+0.57643644j  0.30603062+0.03864987j -0.36858566-0.09906788j]\n",
      " [ 0.32808954+0.15505804j  0.472406  -0.41304315j  0.05380624+0.36445098j\n",
      "   0.11723464-0.21718381j -0.25461566-0.06141186j -0.44775199-0.09395419j]\n",
      " [-0.68265841+0.1464468j   0.04069747-0.04511542j  0.08801261+0.06019917j\n",
      "   0.21481221-0.23737402j  0.3385891 +0.34896217j -0.39061552+0.07733439j]\n",
      " [-0.32960345-0.28791222j -0.02033338-0.16614083j -0.13354575-0.11404756j\n",
      "  -0.43772955+0.09026044j  0.04344096-0.61716394j -0.39360368-0.11024596j]]\n"
     ]
    }
   ],
   "source": [
    "# Determine eigenvalues and rotation matrix\n",
    "ev_eps, U = np.linalg.eigh(H)\n",
    "\n",
    "# Sort eigenvalues\n",
    "sorted_indices = ev_eps.real.argsort()\n",
    "ev_eps = ev_eps[sorted_indices]\n",
    "U = U[:, sorted_indices]\n",
    "print(U)\n"
   ]
  },
  {
   "cell_type": "code",
   "execution_count": 4,
   "id": "66f416ce",
   "metadata": {},
   "outputs": [
    {
     "name": "stdout",
     "output_type": "stream",
     "text": [
      "Dot =  [[-1.373-0.j  0.   +0.j -0.   -0.j -0.   -0.j -0.   +0.j  0.   +0.j]\n",
      " [ 0.   -0.j -0.777+0.j -0.   -0.j  0.   +0.j  0.   +0.j  0.   -0.j]\n",
      " [-0.   +0.j -0.   -0.j -0.218+0.j  0.   -0.j  0.   +0.j -0.   +0.j]\n",
      " [-0.   +0.j  0.   -0.j  0.   +0.j  0.88 -0.j  0.   -0.j -0.   +0.j]\n",
      " [-0.   -0.j  0.   -0.j  0.   -0.j  0.   +0.j  2.055+0.j -0.   +0.j]\n",
      " [ 0.   -0.j  0.   +0.j -0.   -0.j -0.   -0.j -0.   -0.j  5.884+0.j]]\n",
      "Dia =  [[-1.373  0.     0.     0.     0.     0.   ]\n",
      " [ 0.    -0.777  0.     0.     0.     0.   ]\n",
      " [ 0.     0.    -0.218  0.     0.     0.   ]\n",
      " [ 0.     0.     0.     0.88   0.     0.   ]\n",
      " [ 0.     0.     0.     0.     2.055  0.   ]\n",
      " [ 0.     0.     0.     0.     0.     5.884]]\n"
     ]
    }
   ],
   "source": [
    "# Make print of numpy arrays less messy:\n",
    "np.set_printoptions(precision=3, suppress=True)\n",
    "\n",
    "dot = np.dot(np.dot(U.T.conj(), H), U)\n",
    "print('Dot = ', dot)\n",
    "dia = np.diag(ev_eps)\n",
    "print('Dia = ', dia)"
   ]
  },
  {
   "cell_type": "code",
   "execution_count": 5,
   "id": "67b439eb",
   "metadata": {},
   "outputs": [
    {
     "name": "stdout",
     "output_type": "stream",
     "text": [
      "====== Check that U diagonalizes H: =======\n",
      "[[ 0.-0.j  0.+0.j -0.-0.j -0.-0.j -0.+0.j  0.+0.j]\n",
      " [ 0.-0.j -0.+0.j -0.-0.j  0.+0.j  0.+0.j  0.-0.j]\n",
      " [-0.+0.j -0.-0.j -0.+0.j  0.-0.j  0.+0.j -0.+0.j]\n",
      " [-0.+0.j  0.-0.j  0.+0.j -0.-0.j  0.-0.j -0.+0.j]\n",
      " [-0.-0.j  0.-0.j  0.-0.j  0.+0.j  0.+0.j -0.+0.j]\n",
      " [ 0.-0.j  0.+0.j -0.-0.j -0.-0.j -0.-0.j  0.+0.j]]\n",
      "=============\n",
      "True\n",
      "=============\n",
      "====== The eigenvectors of H are the *coloumns* of U =======\n",
      "True\n",
      "=============\n"
     ]
    }
   ],
   "source": [
    "# Check that U diagonalizes H:\n",
    "print('====== Check that U diagonalizes H: =======')\n",
    "print(np.dot(np.dot(U.T.conj(), H), U) - np.diag(ev_eps))\n",
    "print('=============')\n",
    "print(np.allclose(np.dot(np.dot(U.T.conj(), H), U), np.diag(ev_eps)))\n",
    "print('=============')\n",
    "\n",
    "# The eigenvectors of H are the columns of U:\n",
    "print('====== The eigenvectors of H are the *coloumns* of U =======')\n",
    "print(np.allclose(np.dot(H, U), ev_eps * U))\n",
    "print('=============')\n"
   ]
  },
  {
   "cell_type": "code",
   "execution_count": 6,
   "id": "e54d6e38",
   "metadata": {},
   "outputs": [
    {
     "name": "stdout",
     "output_type": "stream",
     "text": [
      "[[1.+5.j 4.-6.j 7.-6.j]\n",
      " [2.-5.j 5.+8.j 8.+6.j]\n",
      " [3.+3.j 6.+2.j 9.-1.j]]\n"
     ]
    }
   ],
   "source": [
    "C = np.matrix([[1-5j, 2 + 5j, 3-3j], [4 + 6j, 5-8j, 6-2j], [7 + 6j, 8-6j, 9 + 1.j]])\n",
    "C_dagger = C.getH()\n",
    "print(C_dagger)"
   ]
  },
  {
   "cell_type": "markdown",
   "id": "430e077f",
   "metadata": {},
   "source": [
    "### 3) Unitary Matrices"
   ]
  },
  {
   "cell_type": "markdown",
   "id": "1b54cd06",
   "metadata": {},
   "source": [
    "Possibly, the real use of a unitary matrix is an orthogonal matrix which have significant importance in many areas, sound engineering, engineering and quantum mechanics because they preserve norms, and thus, probability amplitudes. Remember that for real number Orthogonal (real)\n",
    "- columns form an\n",
    "orthonormal basis\n",
    "$\\mathbf{A}^{\\top}=\\mathbf{A}^{-1}$\n",
    "(transpose = inverse)\n",
    "\n",
    "Unitary (complex)\n",
    "- columns form an\n",
    "orthonormal vectors\n",
    "$\\mathbf{U}^{\\top}=\\mathbf{U}^{-1}$\n",
    "(transpose = inverse)\n",
    "\n",
    "A real unitary matrix is an orthogonal matrix in fact. What we see if the inverse of a matrix is equal to the identity matrix.\n",
    "\n",
    "\\begin{gathered}\n",
    "U^{H} U=\\left[\\begin{array}{cc}\n",
    "-i / \\sqrt{2} & 1 / \\sqrt{2} \\\\\n",
    "-1 / \\sqrt{2} & i / \\sqrt{2}\n",
    "\\end{array}\\right]\\left[\\begin{array}{cc}\n",
    "{[i / \\sqrt{2}} & -1 / \\sqrt{2} \\\\\n",
    "1 / \\sqrt{2} & -i / \\sqrt{2}\n",
    "\\end{array}\\right] \\\\\n",
    "U^{H} U=\\left[\\begin{array}{cc}\n",
    "-(-1) / 2+1 / 2 & i / 2-i / 2 \\\\\n",
    "-i / 2+i / 2 & 1 / 2-(-1) / 2\n",
    "\\end{array}\\right]=\\left[\\begin{array}{ll}\n",
    "1 & 0 \\\\\n",
    "0 & 1\n",
    "\\end{array}\\right]\n",
    "\\end{gathered}"
   ]
  },
  {
   "cell_type": "code",
   "execution_count": 7,
   "id": "d28b053e",
   "metadata": {},
   "outputs": [
    {
     "name": "stdout",
     "output_type": "stream",
     "text": [
      "C= [[1.-5.j 2.+5.j 3.-3.j]\n",
      " [4.+6.j 5.-8.j 6.-2.j]\n",
      " [7.+6.j 8.-6.j 9.+1.j]]\n",
      "left= [[ 0.122  0.929  0.35 ]\n",
      " [ 0.492 -0.363  0.791]\n",
      " [ 0.862  0.075 -0.502]]\n",
      "diag= [ 8.452+0.769j -0.   +9.64j  -1.436+3.506j]\n",
      "right= [[ 0.75  -0.661 -0.003]\n",
      " [ 0.59   0.671 -0.448]\n",
      " [-0.298 -0.335 -0.894]]\n"
     ]
    }
   ],
   "source": [
    "import numpy as np\n",
    "import scipy.linalg\n",
    "\n",
    "def diagonalize_unitary_using_two_orthogonals(u):\n",
    "    \"\"\" Decomposes u into L @ np.diag(D) @ R.T where L and R are real orthogonal.\n",
    "    \n",
    "        Parameters\n",
    "    ----------\n",
    "    u\n",
    "\n",
    "    Returns\n",
    "    left, diag, right\n",
    "    -------\n",
    "    \"\"\"\n",
    "    \n",
    "    diag_r, diag_i, left, right = scipy.linalg.qz(np.real(u), np.imag(u))\n",
    "    \n",
    "    diag = np.diagonal(diag_r) + np.diagonal(diag_i) * 1j\n",
    "    return left, diag, right\n",
    "\n",
    "\n",
    "\n",
    "left, diag, right = diagonalize_unitary_using_two_orthogonals(C)\n",
    "print('C=', C)\n",
    "print('left=', left)\n",
    "print('diag=', diag)\n",
    "print('right=', right)"
   ]
  },
  {
   "cell_type": "markdown",
   "id": "2b536904",
   "metadata": {},
   "source": [
    "Uses of unitary matrices are beyond the scope of the writing but they are used widely in Spectral and Voice analysis. For a unitary matrix: a) all eigenvalues have absolute value 1. b) eigenvectors corresponding to distinct eigenvalues are orthogonal, c) there is an orthogonal basis of the whole space, consisting of eigenvectors.\n",
    "\n",
    "I hope the content and code will be helpful to some people. Thank you to xxxx to help me review the content. We work as Krungsri Data Science, Department of Data Intelligence by the way."
   ]
  },
  {
   "cell_type": "code",
   "execution_count": null,
   "id": "thorough-programming",
   "metadata": {
    "scrolled": true
   },
   "outputs": [],
   "source": []
  },
  {
   "cell_type": "code",
   "execution_count": null,
   "id": "organizational-missouri",
   "metadata": {},
   "outputs": [],
   "source": []
  },
  {
   "cell_type": "code",
   "execution_count": null,
   "id": "composite-sarah",
   "metadata": {},
   "outputs": [],
   "source": []
  },
  {
   "cell_type": "code",
   "execution_count": null,
   "id": "ongoing-supervisor",
   "metadata": {},
   "outputs": [],
   "source": []
  },
  {
   "cell_type": "code",
   "execution_count": null,
   "id": "632c2b9f",
   "metadata": {},
   "outputs": [],
   "source": []
  },
  {
   "cell_type": "code",
   "execution_count": null,
   "id": "5b7d6789",
   "metadata": {},
   "outputs": [],
   "source": []
  },
  {
   "cell_type": "code",
   "execution_count": null,
   "id": "e0bfeedd",
   "metadata": {},
   "outputs": [],
   "source": []
  },
  {
   "cell_type": "code",
   "execution_count": null,
   "id": "8eb728e0",
   "metadata": {},
   "outputs": [],
   "source": []
  },
  {
   "cell_type": "code",
   "execution_count": null,
   "id": "00d0729f",
   "metadata": {},
   "outputs": [],
   "source": []
  },
  {
   "cell_type": "code",
   "execution_count": null,
   "id": "ace33568",
   "metadata": {},
   "outputs": [],
   "source": []
  },
  {
   "cell_type": "code",
   "execution_count": null,
   "id": "47c6ab88",
   "metadata": {},
   "outputs": [],
   "source": []
  },
  {
   "cell_type": "code",
   "execution_count": null,
   "id": "8ea345c7",
   "metadata": {},
   "outputs": [],
   "source": []
  },
  {
   "cell_type": "code",
   "execution_count": null,
   "id": "e6198cd9",
   "metadata": {},
   "outputs": [],
   "source": []
  },
  {
   "cell_type": "code",
   "execution_count": null,
   "id": "c1873a3c",
   "metadata": {},
   "outputs": [],
   "source": []
  },
  {
   "cell_type": "code",
   "execution_count": null,
   "id": "cc6a2985",
   "metadata": {},
   "outputs": [],
   "source": []
  },
  {
   "cell_type": "code",
   "execution_count": null,
   "id": "6bfd740e",
   "metadata": {},
   "outputs": [],
   "source": []
  },
  {
   "cell_type": "code",
   "execution_count": null,
   "id": "dee22655",
   "metadata": {},
   "outputs": [],
   "source": []
  },
  {
   "cell_type": "code",
   "execution_count": null,
   "id": "1cb10f84",
   "metadata": {},
   "outputs": [],
   "source": []
  },
  {
   "cell_type": "code",
   "execution_count": null,
   "id": "ee45e485",
   "metadata": {},
   "outputs": [],
   "source": []
  },
  {
   "cell_type": "code",
   "execution_count": null,
   "id": "41c9c292",
   "metadata": {},
   "outputs": [],
   "source": []
  },
  {
   "cell_type": "code",
   "execution_count": null,
   "id": "a19d59c8",
   "metadata": {},
   "outputs": [],
   "source": []
  },
  {
   "cell_type": "code",
   "execution_count": null,
   "id": "95c63958",
   "metadata": {},
   "outputs": [],
   "source": []
  },
  {
   "cell_type": "code",
   "execution_count": null,
   "id": "d10da1f4",
   "metadata": {},
   "outputs": [],
   "source": []
  },
  {
   "cell_type": "code",
   "execution_count": null,
   "id": "0dc69188",
   "metadata": {},
   "outputs": [],
   "source": []
  },
  {
   "cell_type": "code",
   "execution_count": null,
   "id": "ab64801b",
   "metadata": {},
   "outputs": [],
   "source": []
  },
  {
   "cell_type": "code",
   "execution_count": null,
   "id": "a87dd1f2",
   "metadata": {},
   "outputs": [],
   "source": []
  },
  {
   "cell_type": "markdown",
   "id": "8da7bfb5",
   "metadata": {},
   "source": []
  }
 ],
 "metadata": {
  "kernelspec": {
   "display_name": "Python 3",
   "language": "python",
   "name": "python3"
  },
  "language_info": {
   "codemirror_mode": {
    "name": "ipython",
    "version": 3
   },
   "file_extension": ".py",
   "mimetype": "text/x-python",
   "name": "python",
   "nbconvert_exporter": "python",
   "pygments_lexer": "ipython3",
   "version": "3.8.8"
  }
 },
 "nbformat": 4,
 "nbformat_minor": 5
}
